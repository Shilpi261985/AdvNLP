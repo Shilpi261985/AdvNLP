{
 "cells": [
  {
   "cell_type": "markdown",
   "id": "quick-polls",
   "metadata": {},
   "source": [
    "![MSE Logo](https://moodle.msengineering.ch/pluginfile.php/1/core_admin/logo/0x150/1643104191/logo-mse.png)\n",
    "\n",
    "# AdvNLP Lab 4 GRADED: Testing a pretrained word2vec model on analogy tasks\n",
    "\n",
    "**Objectives:**  experiment with *word vectors* from word2vec: test them on analogy tasks; use *accuracy and MRR* (Mean Reciprocal Rank) scores.\n",
    "\n",
    "**Useful documentation:** the [section on KeyedVectors in Gensim](https://radimrehurek.com/gensim/models/keyedvectors.html) and possibly the [section on word2vec](https://radimrehurek.com/gensim/models/word2vec.html)."
   ]
  },
  {
   "cell_type": "markdown",
   "id": "sufficient-chase",
   "metadata": {},
   "source": [
    "## 1. Word2vec model trained on Google News\n",
    "**1a.** Please install the latest version of Gensim, preferably in a Conda environment. "
   ]
  },
  {
   "cell_type": "code",
   "execution_count": 2,
   "id": "17d250d5",
   "metadata": {},
   "outputs": [
    {
     "name": "stdout",
     "output_type": "stream",
     "text": [
      "Collecting gensimNote: you may need to restart the kernel to use updated packages.\n",
      "\n",
      "  Downloading gensim-4.3.3-cp312-cp312-win_amd64.whl.metadata (8.2 kB)\n",
      "Requirement already satisfied: numpy<2.0,>=1.18.5 in c:\\users\\itssh\\anaconda\\envs\\adv_learn\\lib\\site-packages (from gensim) (1.26.4)\n",
      "Collecting scipy<1.14.0,>=1.7.0 (from gensim)\n",
      "  Downloading scipy-1.13.1-cp312-cp312-win_amd64.whl.metadata (60 kB)\n",
      "Collecting smart-open>=1.8.1 (from gensim)\n",
      "  Downloading smart_open-7.1.0-py3-none-any.whl.metadata (24 kB)\n",
      "Collecting wrapt (from smart-open>=1.8.1->gensim)\n",
      "  Downloading wrapt-1.17.2-cp312-cp312-win_amd64.whl.metadata (6.5 kB)\n",
      "Downloading gensim-4.3.3-cp312-cp312-win_amd64.whl (24.0 MB)\n",
      "   ---------------------------------------- 0.0/24.0 MB ? eta -:--:--\n",
      "   ---------------------------------------- 0.3/24.0 MB ? eta -:--:--\n",
      "   - -------------------------------------- 0.8/24.0 MB 2.2 MB/s eta 0:00:11\n",
      "   -- ------------------------------------- 1.3/24.0 MB 2.4 MB/s eta 0:00:10\n",
      "   --- ------------------------------------ 1.8/24.0 MB 2.5 MB/s eta 0:00:09\n",
      "   --- ------------------------------------ 2.4/24.0 MB 2.5 MB/s eta 0:00:09\n",
      "   ---- ----------------------------------- 2.9/24.0 MB 2.5 MB/s eta 0:00:09\n",
      "   ----- ---------------------------------- 3.4/24.0 MB 2.5 MB/s eta 0:00:09\n",
      "   ------ --------------------------------- 4.2/24.0 MB 2.6 MB/s eta 0:00:08\n",
      "   ------- -------------------------------- 4.7/24.0 MB 2.6 MB/s eta 0:00:08\n",
      "   -------- ------------------------------- 5.2/24.0 MB 2.6 MB/s eta 0:00:08\n",
      "   --------- ------------------------------ 5.8/24.0 MB 2.6 MB/s eta 0:00:07\n",
      "   ---------- ----------------------------- 6.3/24.0 MB 2.6 MB/s eta 0:00:07\n",
      "   ----------- ---------------------------- 6.8/24.0 MB 2.6 MB/s eta 0:00:07\n",
      "   ------------ --------------------------- 7.6/24.0 MB 2.6 MB/s eta 0:00:07\n",
      "   ------------- -------------------------- 8.1/24.0 MB 2.6 MB/s eta 0:00:07\n",
      "   -------------- ------------------------- 8.7/24.0 MB 2.6 MB/s eta 0:00:06\n",
      "   --------------- ------------------------ 9.2/24.0 MB 2.6 MB/s eta 0:00:06\n",
      "   ---------------- ----------------------- 9.7/24.0 MB 2.7 MB/s eta 0:00:06\n",
      "   ----------------- ---------------------- 10.2/24.0 MB 2.7 MB/s eta 0:00:06\n",
      "   ------------------ --------------------- 11.0/24.0 MB 2.7 MB/s eta 0:00:05\n",
      "   ------------------- -------------------- 11.5/24.0 MB 2.7 MB/s eta 0:00:05\n",
      "   -------------------- ------------------- 12.3/24.0 MB 2.7 MB/s eta 0:00:05\n",
      "   --------------------- ------------------ 12.8/24.0 MB 2.7 MB/s eta 0:00:05\n",
      "   ---------------------- ----------------- 13.4/24.0 MB 2.7 MB/s eta 0:00:04\n",
      "   ----------------------- ---------------- 13.9/24.0 MB 2.7 MB/s eta 0:00:04\n",
      "   ------------------------ --------------- 14.7/24.0 MB 2.7 MB/s eta 0:00:04\n",
      "   ------------------------- -------------- 15.2/24.0 MB 2.7 MB/s eta 0:00:04\n",
      "   -------------------------- ------------- 15.7/24.0 MB 2.7 MB/s eta 0:00:04\n",
      "   --------------------------- ------------ 16.3/24.0 MB 2.7 MB/s eta 0:00:03\n",
      "   ---------------------------- ----------- 17.0/24.0 MB 2.7 MB/s eta 0:00:03\n",
      "   ---------------------------- ----------- 17.3/24.0 MB 2.7 MB/s eta 0:00:03\n",
      "   ------------------------------ --------- 18.1/24.0 MB 2.7 MB/s eta 0:00:03\n",
      "   ------------------------------- -------- 18.6/24.0 MB 2.7 MB/s eta 0:00:02\n",
      "   ------------------------------- -------- 19.1/24.0 MB 2.7 MB/s eta 0:00:02\n",
      "   -------------------------------- ------- 19.4/24.0 MB 2.7 MB/s eta 0:00:02\n",
      "   -------------------------------- ------- 19.7/24.0 MB 2.6 MB/s eta 0:00:02\n",
      "   -------------------------------- ------- 19.7/24.0 MB 2.6 MB/s eta 0:00:02\n",
      "   --------------------------------- ------ 20.2/24.0 MB 2.6 MB/s eta 0:00:02\n",
      "   ---------------------------------- ----- 20.4/24.0 MB 2.5 MB/s eta 0:00:02\n",
      "   ---------------------------------- ----- 20.7/24.0 MB 2.5 MB/s eta 0:00:02\n",
      "   ----------------------------------- ---- 21.2/24.0 MB 2.5 MB/s eta 0:00:02\n",
      "   ------------------------------------ --- 21.8/24.0 MB 2.5 MB/s eta 0:00:01\n",
      "   ------------------------------------ --- 22.0/24.0 MB 2.5 MB/s eta 0:00:01\n",
      "   ------------------------------------- -- 22.5/24.0 MB 2.5 MB/s eta 0:00:01\n",
      "   -------------------------------------- - 23.1/24.0 MB 2.5 MB/s eta 0:00:01\n",
      "   ---------------------------------------  23.6/24.0 MB 2.5 MB/s eta 0:00:01\n",
      "   ---------------------------------------  23.9/24.0 MB 2.5 MB/s eta 0:00:01\n",
      "   ---------------------------------------- 24.0/24.0 MB 2.4 MB/s eta 0:00:00\n",
      "Downloading scipy-1.13.1-cp312-cp312-win_amd64.whl (45.9 MB)\n",
      "   ---------------------------------------- 0.0/45.9 MB ? eta -:--:--\n",
      "   ---------------------------------------- 0.5/45.9 MB 2.4 MB/s eta 0:00:19\n",
      "    --------------------------------------- 0.8/45.9 MB 2.4 MB/s eta 0:00:19\n",
      "   - -------------------------------------- 1.6/45.9 MB 2.4 MB/s eta 0:00:19\n",
      "   - -------------------------------------- 1.8/45.9 MB 2.4 MB/s eta 0:00:19\n",
      "   -- ------------------------------------- 2.4/45.9 MB 2.4 MB/s eta 0:00:19\n",
      "   -- ------------------------------------- 2.9/45.9 MB 2.4 MB/s eta 0:00:18\n",
      "   -- ------------------------------------- 3.4/45.9 MB 2.4 MB/s eta 0:00:18\n",
      "   --- ------------------------------------ 3.9/45.9 MB 2.4 MB/s eta 0:00:18\n",
      "   --- ------------------------------------ 4.5/45.9 MB 2.4 MB/s eta 0:00:17\n",
      "   ---- ----------------------------------- 5.0/45.9 MB 2.4 MB/s eta 0:00:17\n",
      "   ---- ----------------------------------- 5.5/45.9 MB 2.4 MB/s eta 0:00:17\n",
      "   ----- ---------------------------------- 6.0/45.9 MB 2.4 MB/s eta 0:00:17\n",
      "   ----- ---------------------------------- 6.6/45.9 MB 2.4 MB/s eta 0:00:17\n",
      "   ------ --------------------------------- 7.1/45.9 MB 2.4 MB/s eta 0:00:17\n",
      "   ------ --------------------------------- 7.3/45.9 MB 2.4 MB/s eta 0:00:17\n",
      "   ------ --------------------------------- 7.9/45.9 MB 2.4 MB/s eta 0:00:17\n",
      "   ------- -------------------------------- 8.4/45.9 MB 2.4 MB/s eta 0:00:16\n",
      "   ------- -------------------------------- 8.9/45.9 MB 2.4 MB/s eta 0:00:16\n",
      "   -------- ------------------------------- 9.4/45.9 MB 2.3 MB/s eta 0:00:16\n",
      "   -------- ------------------------------- 10.0/45.9 MB 2.4 MB/s eta 0:00:16\n",
      "   --------- ------------------------------ 10.5/45.9 MB 2.4 MB/s eta 0:00:16\n",
      "   --------- ------------------------------ 11.0/45.9 MB 2.4 MB/s eta 0:00:15\n",
      "   --------- ------------------------------ 11.3/45.9 MB 2.4 MB/s eta 0:00:15\n",
      "   ---------- ----------------------------- 11.8/45.9 MB 2.4 MB/s eta 0:00:15\n",
      "   ---------- ----------------------------- 12.3/45.9 MB 2.4 MB/s eta 0:00:15\n",
      "   ----------- ---------------------------- 12.8/45.9 MB 2.4 MB/s eta 0:00:15\n",
      "   ----------- ---------------------------- 13.4/45.9 MB 2.4 MB/s eta 0:00:14\n",
      "   ------------ --------------------------- 13.9/45.9 MB 2.4 MB/s eta 0:00:14\n",
      "   ------------ --------------------------- 14.4/45.9 MB 2.4 MB/s eta 0:00:14\n",
      "   ------------- -------------------------- 14.9/45.9 MB 2.4 MB/s eta 0:00:14\n",
      "   ------------- -------------------------- 15.5/45.9 MB 2.4 MB/s eta 0:00:13\n",
      "   ------------- -------------------------- 16.0/45.9 MB 2.4 MB/s eta 0:00:13\n",
      "   -------------- ------------------------- 16.5/45.9 MB 2.4 MB/s eta 0:00:13\n",
      "   -------------- ------------------------- 17.0/45.9 MB 2.4 MB/s eta 0:00:13\n",
      "   --------------- ------------------------ 17.6/45.9 MB 2.4 MB/s eta 0:00:12\n",
      "   --------------- ------------------------ 18.1/45.9 MB 2.4 MB/s eta 0:00:12\n",
      "   ---------------- ----------------------- 18.6/45.9 MB 2.4 MB/s eta 0:00:12\n",
      "   ---------------- ----------------------- 19.4/45.9 MB 2.4 MB/s eta 0:00:11\n",
      "   ----------------- ---------------------- 19.9/45.9 MB 2.4 MB/s eta 0:00:11\n",
      "   ------------------ --------------------- 20.7/45.9 MB 2.5 MB/s eta 0:00:11\n",
      "   ------------------ --------------------- 21.2/45.9 MB 2.5 MB/s eta 0:00:10\n",
      "   ------------------ --------------------- 21.8/45.9 MB 2.5 MB/s eta 0:00:10\n",
      "   ------------------- -------------------- 22.5/45.9 MB 2.5 MB/s eta 0:00:10\n",
      "   -------------------- ------------------- 23.1/45.9 MB 2.5 MB/s eta 0:00:10\n",
      "   -------------------- ------------------- 23.6/45.9 MB 2.5 MB/s eta 0:00:09\n",
      "   --------------------- ------------------ 24.4/45.9 MB 2.5 MB/s eta 0:00:09\n",
      "   --------------------- ------------------ 24.9/45.9 MB 2.5 MB/s eta 0:00:09\n",
      "   ---------------------- ----------------- 25.7/45.9 MB 2.5 MB/s eta 0:00:08\n",
      "   ---------------------- ----------------- 26.2/45.9 MB 2.6 MB/s eta 0:00:08\n",
      "   ----------------------- ---------------- 27.0/45.9 MB 2.6 MB/s eta 0:00:08\n",
      "   ----------------------- ---------------- 27.5/45.9 MB 2.6 MB/s eta 0:00:08\n",
      "   ------------------------ --------------- 28.3/45.9 MB 2.6 MB/s eta 0:00:07\n",
      "   ------------------------- -------------- 28.8/45.9 MB 2.6 MB/s eta 0:00:07\n",
      "   ------------------------- -------------- 29.4/45.9 MB 2.6 MB/s eta 0:00:07\n",
      "   -------------------------- ------------- 30.1/45.9 MB 2.6 MB/s eta 0:00:07\n",
      "   -------------------------- ------------- 30.9/45.9 MB 2.6 MB/s eta 0:00:06\n",
      "   --------------------------- ------------ 31.5/45.9 MB 2.6 MB/s eta 0:00:06\n",
      "   ---------------------------- ----------- 32.2/45.9 MB 2.6 MB/s eta 0:00:06\n",
      "   ---------------------------- ----------- 32.8/45.9 MB 2.7 MB/s eta 0:00:05\n",
      "   ----------------------------- ---------- 33.6/45.9 MB 2.7 MB/s eta 0:00:05\n",
      "   ----------------------------- ---------- 34.1/45.9 MB 2.7 MB/s eta 0:00:05\n",
      "   ------------------------------ --------- 34.6/45.9 MB 2.7 MB/s eta 0:00:05\n",
      "   ------------------------------ --------- 35.1/45.9 MB 2.7 MB/s eta 0:00:05\n",
      "   ------------------------------- -------- 35.9/45.9 MB 2.7 MB/s eta 0:00:04\n",
      "   ------------------------------- -------- 36.4/45.9 MB 2.7 MB/s eta 0:00:04\n",
      "   -------------------------------- ------- 37.0/45.9 MB 2.7 MB/s eta 0:00:04\n",
      "   -------------------------------- ------- 37.5/45.9 MB 2.7 MB/s eta 0:00:04\n",
      "   --------------------------------- ------ 38.0/45.9 MB 2.7 MB/s eta 0:00:03\n",
      "   --------------------------------- ------ 38.8/45.9 MB 2.7 MB/s eta 0:00:03\n",
      "   ---------------------------------- ----- 39.6/45.9 MB 2.7 MB/s eta 0:00:03\n",
      "   ----------------------------------- ---- 40.4/45.9 MB 2.7 MB/s eta 0:00:03\n",
      "   ----------------------------------- ---- 40.9/45.9 MB 2.7 MB/s eta 0:00:02\n",
      "   ------------------------------------ --- 41.7/45.9 MB 2.7 MB/s eta 0:00:02\n",
      "   ------------------------------------ --- 42.2/45.9 MB 2.7 MB/s eta 0:00:02\n",
      "   ------------------------------------- -- 42.7/45.9 MB 2.7 MB/s eta 0:00:02\n",
      "   ------------------------------------- -- 43.5/45.9 MB 2.7 MB/s eta 0:00:01\n",
      "   -------------------------------------- - 44.0/45.9 MB 2.7 MB/s eta 0:00:01\n",
      "   ---------------------------------------  44.8/45.9 MB 2.7 MB/s eta 0:00:01\n",
      "   ---------------------------------------  45.4/45.9 MB 2.7 MB/s eta 0:00:01\n",
      "   ---------------------------------------  45.9/45.9 MB 2.7 MB/s eta 0:00:01\n",
      "   ---------------------------------------- 45.9/45.9 MB 2.7 MB/s eta 0:00:00\n",
      "Downloading smart_open-7.1.0-py3-none-any.whl (61 kB)\n",
      "Downloading wrapt-1.17.2-cp312-cp312-win_amd64.whl (38 kB)\n",
      "Installing collected packages: wrapt, scipy, smart-open, gensim\n",
      "Successfully installed gensim-4.3.3 scipy-1.13.1 smart-open-7.1.0 wrapt-1.17.2\n"
     ]
    }
   ],
   "source": [
    "pip install gensim"
   ]
  },
  {
   "cell_type": "code",
   "execution_count": 1,
   "id": "extreme-birthday",
   "metadata": {},
   "outputs": [
    {
     "name": "stdout",
     "output_type": "stream",
     "text": [
      "Name: gensim\n",
      "Version: 4.3.2\n",
      "Summary: Python framework for fast Vector Space Modelling\n",
      "Home-page: https://radimrehurek.com/gensim/\n",
      "Author: Radim Rehurek\n",
      "Author-email: me@radimrehurek.com\n",
      "License: LGPL-2.1-only\n",
      "Location: C:\\Users\\itssh\\AppData\\Local\\Packages\\PythonSoftwareFoundation.Python.3.11_qbz5n2kfra8p0\\LocalCache\\local-packages\\Python311\\site-packages\n",
      "Requires: numpy, scipy, smart-open\n",
      "Required-by: \n"
     ]
    }
   ],
   "source": [
    "# !pip install --upgrade gensim\n",
    "# You can run the following verification:\n",
    "!pip show gensim"
   ]
  },
  {
   "cell_type": "code",
   "execution_count": 3,
   "id": "assumed-photographer",
   "metadata": {},
   "outputs": [],
   "source": [
    "import gensim, os, random\n",
    "from gensim import downloader\n",
    "from gensim.test.utils import datapath\n",
    "from gensim.models import KeyedVectors\n",
    "from gensim import utils\n",
    "# help(gensim.models.word2vec) # take a look if needed\n",
    "import time\n",
    "import itertools"
   ]
  },
  {
   "cell_type": "markdown",
   "id": "working-titanium",
   "metadata": {},
   "source": [
    "**1b.** Please download from Gensim the `word2vec-google-news-300` model, upon your first use.  Then, please write code to answer the following questions:\n",
    "* Where is the model stored on your computer and what is the file name?  You can store the absolute path in a variable called `path_to_model_file`.\n",
    "* What is the size of the corresponding file?  Please display the size in gigabytes with two decimals."
   ]
  },
  {
   "cell_type": "code",
   "execution_count": 3,
   "id": "infectious-burner",
   "metadata": {},
   "outputs": [],
   "source": [
    "# Download the model from Gensim (needed only the first time)\n",
    "# gensim.downloader.load(\"word2vec-google-news-300\")\n",
    "# No need to store the returned value (uses a lot of memory)."
   ]
  },
  {
   "cell_type": "code",
   "execution_count": 4,
   "id": "scheduled-binary",
   "metadata": {},
   "outputs": [
    {
     "name": "stdout",
     "output_type": "stream",
     "text": [
      "[=====---------------------------------------------] 12.0% 199.3/1662.8MB downloaded"
     ]
    },
    {
     "ename": "KeyboardInterrupt",
     "evalue": "",
     "output_type": "error",
     "traceback": [
      "\u001b[1;31m---------------------------------------------------------------------------\u001b[0m",
      "\u001b[1;31mKeyboardInterrupt\u001b[0m                         Traceback (most recent call last)",
      "Cell \u001b[1;32mIn[4], line 2\u001b[0m\n\u001b[0;32m      1\u001b[0m \u001b[38;5;66;03m# Please write your Python code below and execute it.\u001b[39;00m\n\u001b[1;32m----> 2\u001b[0m model \u001b[38;5;241m=\u001b[39m \u001b[43mgensim\u001b[49m\u001b[38;5;241;43m.\u001b[39;49m\u001b[43mdownloader\u001b[49m\u001b[38;5;241;43m.\u001b[39;49m\u001b[43mload\u001b[49m\u001b[43m(\u001b[49m\u001b[38;5;124;43m\"\u001b[39;49m\u001b[38;5;124;43mword2vec-google-news-300\u001b[39;49m\u001b[38;5;124;43m\"\u001b[39;49m\u001b[43m)\u001b[49m\n",
      "File \u001b[1;32mc:\\Users\\itssh\\anaconda\\envs\\Adv_Learn\\Lib\\site-packages\\gensim\\downloader.py:496\u001b[0m, in \u001b[0;36mload\u001b[1;34m(name, return_path)\u001b[0m\n\u001b[0;32m    494\u001b[0m path \u001b[38;5;241m=\u001b[39m os\u001b[38;5;241m.\u001b[39mpath\u001b[38;5;241m.\u001b[39mjoin(folder_dir, file_name)\n\u001b[0;32m    495\u001b[0m \u001b[38;5;28;01mif\u001b[39;00m \u001b[38;5;129;01mnot\u001b[39;00m os\u001b[38;5;241m.\u001b[39mpath\u001b[38;5;241m.\u001b[39mexists(folder_dir):\n\u001b[1;32m--> 496\u001b[0m     \u001b[43m_download\u001b[49m\u001b[43m(\u001b[49m\u001b[43mname\u001b[49m\u001b[43m)\u001b[49m\n\u001b[0;32m    498\u001b[0m \u001b[38;5;28;01mif\u001b[39;00m return_path:\n\u001b[0;32m    499\u001b[0m     \u001b[38;5;28;01mreturn\u001b[39;00m path\n",
      "File \u001b[1;32mc:\\Users\\itssh\\anaconda\\envs\\Adv_Learn\\Lib\\site-packages\\gensim\\downloader.py:396\u001b[0m, in \u001b[0;36m_download\u001b[1;34m(name)\u001b[0m\n\u001b[0;32m    394\u001b[0m fname \u001b[38;5;241m=\u001b[39m \u001b[38;5;124m\"\u001b[39m\u001b[38;5;132;01m{fname}\u001b[39;00m\u001b[38;5;124m.gz\u001b[39m\u001b[38;5;124m\"\u001b[39m\u001b[38;5;241m.\u001b[39mformat(fname\u001b[38;5;241m=\u001b[39mname)\n\u001b[0;32m    395\u001b[0m dst_path \u001b[38;5;241m=\u001b[39m os\u001b[38;5;241m.\u001b[39mpath\u001b[38;5;241m.\u001b[39mjoin(tmp_dir, fname)\n\u001b[1;32m--> 396\u001b[0m \u001b[43murllib\u001b[49m\u001b[38;5;241;43m.\u001b[39;49m\u001b[43murlretrieve\u001b[49m\u001b[43m(\u001b[49m\u001b[43murl_data\u001b[49m\u001b[43m,\u001b[49m\u001b[43m \u001b[49m\u001b[43mdst_path\u001b[49m\u001b[43m,\u001b[49m\u001b[43m \u001b[49m\u001b[43mreporthook\u001b[49m\u001b[38;5;241;43m=\u001b[39;49m\u001b[43m_progress\u001b[49m\u001b[43m)\u001b[49m\n\u001b[0;32m    397\u001b[0m \u001b[38;5;28;01mif\u001b[39;00m _calculate_md5_checksum(dst_path) \u001b[38;5;241m==\u001b[39m _get_checksum(name):\n\u001b[0;32m    398\u001b[0m     sys\u001b[38;5;241m.\u001b[39mstdout\u001b[38;5;241m.\u001b[39mwrite(\u001b[38;5;124m\"\u001b[39m\u001b[38;5;130;01m\\n\u001b[39;00m\u001b[38;5;124m\"\u001b[39m)\n",
      "File \u001b[1;32mc:\\Users\\itssh\\anaconda\\envs\\Adv_Learn\\Lib\\urllib\\request.py:273\u001b[0m, in \u001b[0;36murlretrieve\u001b[1;34m(url, filename, reporthook, data)\u001b[0m\n\u001b[0;32m    271\u001b[0m             blocknum \u001b[38;5;241m+\u001b[39m\u001b[38;5;241m=\u001b[39m \u001b[38;5;241m1\u001b[39m\n\u001b[0;32m    272\u001b[0m             \u001b[38;5;28;01mif\u001b[39;00m reporthook:\n\u001b[1;32m--> 273\u001b[0m                 \u001b[43mreporthook\u001b[49m\u001b[43m(\u001b[49m\u001b[43mblocknum\u001b[49m\u001b[43m,\u001b[49m\u001b[43m \u001b[49m\u001b[43mbs\u001b[49m\u001b[43m,\u001b[49m\u001b[43m \u001b[49m\u001b[43msize\u001b[49m\u001b[43m)\u001b[49m\n\u001b[0;32m    275\u001b[0m \u001b[38;5;28;01mif\u001b[39;00m size \u001b[38;5;241m>\u001b[39m\u001b[38;5;241m=\u001b[39m \u001b[38;5;241m0\u001b[39m \u001b[38;5;129;01mand\u001b[39;00m read \u001b[38;5;241m<\u001b[39m size:\n\u001b[0;32m    276\u001b[0m     \u001b[38;5;28;01mraise\u001b[39;00m ContentTooShortError(\n\u001b[0;32m    277\u001b[0m         \u001b[38;5;124m\"\u001b[39m\u001b[38;5;124mretrieval incomplete: got only \u001b[39m\u001b[38;5;132;01m%i\u001b[39;00m\u001b[38;5;124m out of \u001b[39m\u001b[38;5;132;01m%i\u001b[39;00m\u001b[38;5;124m bytes\u001b[39m\u001b[38;5;124m\"\u001b[39m\n\u001b[0;32m    278\u001b[0m         \u001b[38;5;241m%\u001b[39m (read, size), result)\n",
      "File \u001b[1;32mc:\\Users\\itssh\\anaconda\\envs\\Adv_Learn\\Lib\\site-packages\\gensim\\downloader.py:129\u001b[0m, in \u001b[0;36m_progress\u001b[1;34m(chunks_downloaded, chunk_size, total_size, part, total_parts)\u001b[0m\n\u001b[0;32m    122\u001b[0m \u001b[38;5;28;01mif\u001b[39;00m total_parts \u001b[38;5;241m==\u001b[39m \u001b[38;5;241m1\u001b[39m:\n\u001b[0;32m    123\u001b[0m     sys\u001b[38;5;241m.\u001b[39mstdout\u001b[38;5;241m.\u001b[39mwrite(\n\u001b[0;32m    124\u001b[0m         \u001b[38;5;124m'\u001b[39m\u001b[38;5;130;01m\\r\u001b[39;00m\u001b[38;5;124m[\u001b[39m\u001b[38;5;132;01m%s\u001b[39;00m\u001b[38;5;124m] \u001b[39m\u001b[38;5;132;01m%s\u001b[39;00m\u001b[38;5;132;01m%s\u001b[39;00m\u001b[38;5;124m \u001b[39m\u001b[38;5;132;01m%s\u001b[39;00m\u001b[38;5;124m/\u001b[39m\u001b[38;5;132;01m%s\u001b[39;00m\u001b[38;5;124mMB downloaded\u001b[39m\u001b[38;5;124m'\u001b[39m \u001b[38;5;241m%\u001b[39m (\n\u001b[0;32m    125\u001b[0m             bar, percent_downloaded, \u001b[38;5;124m\"\u001b[39m\u001b[38;5;124m%\u001b[39m\u001b[38;5;124m\"\u001b[39m,\n\u001b[0;32m    126\u001b[0m             \u001b[38;5;28mround\u001b[39m(size_downloaded \u001b[38;5;241m/\u001b[39m (\u001b[38;5;241m1024\u001b[39m \u001b[38;5;241m*\u001b[39m \u001b[38;5;241m1024\u001b[39m), \u001b[38;5;241m1\u001b[39m),\n\u001b[0;32m    127\u001b[0m             \u001b[38;5;28mround\u001b[39m(\u001b[38;5;28mfloat\u001b[39m(total_size) \u001b[38;5;241m/\u001b[39m (\u001b[38;5;241m1024\u001b[39m \u001b[38;5;241m*\u001b[39m \u001b[38;5;241m1024\u001b[39m), \u001b[38;5;241m1\u001b[39m))\n\u001b[0;32m    128\u001b[0m     )\n\u001b[1;32m--> 129\u001b[0m     \u001b[43msys\u001b[49m\u001b[38;5;241;43m.\u001b[39;49m\u001b[43mstdout\u001b[49m\u001b[38;5;241;43m.\u001b[39;49m\u001b[43mflush\u001b[49m\u001b[43m(\u001b[49m\u001b[43m)\u001b[49m\n\u001b[0;32m    130\u001b[0m \u001b[38;5;28;01melse\u001b[39;00m:\n\u001b[0;32m    131\u001b[0m     sys\u001b[38;5;241m.\u001b[39mstdout\u001b[38;5;241m.\u001b[39mwrite(\n\u001b[0;32m    132\u001b[0m         \u001b[38;5;124m'\u001b[39m\u001b[38;5;130;01m\\r\u001b[39;00m\u001b[38;5;124m Part \u001b[39m\u001b[38;5;132;01m%s\u001b[39;00m\u001b[38;5;124m/\u001b[39m\u001b[38;5;132;01m%s\u001b[39;00m\u001b[38;5;124m [\u001b[39m\u001b[38;5;132;01m%s\u001b[39;00m\u001b[38;5;124m] \u001b[39m\u001b[38;5;132;01m%s\u001b[39;00m\u001b[38;5;132;01m%s\u001b[39;00m\u001b[38;5;124m \u001b[39m\u001b[38;5;132;01m%s\u001b[39;00m\u001b[38;5;124m/\u001b[39m\u001b[38;5;132;01m%s\u001b[39;00m\u001b[38;5;124mMB downloaded\u001b[39m\u001b[38;5;124m'\u001b[39m \u001b[38;5;241m%\u001b[39m (\n\u001b[0;32m    133\u001b[0m             part \u001b[38;5;241m+\u001b[39m \u001b[38;5;241m1\u001b[39m, total_parts, bar, percent_downloaded, \u001b[38;5;124m\"\u001b[39m\u001b[38;5;124m%\u001b[39m\u001b[38;5;124m\"\u001b[39m,\n\u001b[0;32m    134\u001b[0m             \u001b[38;5;28mround\u001b[39m(size_downloaded \u001b[38;5;241m/\u001b[39m (\u001b[38;5;241m1024\u001b[39m \u001b[38;5;241m*\u001b[39m \u001b[38;5;241m1024\u001b[39m), \u001b[38;5;241m1\u001b[39m),\n\u001b[0;32m    135\u001b[0m             \u001b[38;5;28mround\u001b[39m(\u001b[38;5;28mfloat\u001b[39m(total_size) \u001b[38;5;241m/\u001b[39m (\u001b[38;5;241m1024\u001b[39m \u001b[38;5;241m*\u001b[39m \u001b[38;5;241m1024\u001b[39m), \u001b[38;5;241m1\u001b[39m))\n\u001b[0;32m    136\u001b[0m     )\n",
      "File \u001b[1;32mc:\\Users\\itssh\\anaconda\\envs\\Adv_Learn\\Lib\\site-packages\\ipykernel\\iostream.py:609\u001b[0m, in \u001b[0;36mOutStream.flush\u001b[1;34m(self)\u001b[0m\n\u001b[0;32m    607\u001b[0m     \u001b[38;5;28mself\u001b[39m\u001b[38;5;241m.\u001b[39mpub_thread\u001b[38;5;241m.\u001b[39mschedule(evt\u001b[38;5;241m.\u001b[39mset)\n\u001b[0;32m    608\u001b[0m     \u001b[38;5;66;03m# and give a timeout to avoid\u001b[39;00m\n\u001b[1;32m--> 609\u001b[0m     \u001b[38;5;28;01mif\u001b[39;00m \u001b[38;5;129;01mnot\u001b[39;00m \u001b[43mevt\u001b[49m\u001b[38;5;241;43m.\u001b[39;49m\u001b[43mwait\u001b[49m\u001b[43m(\u001b[49m\u001b[38;5;28;43mself\u001b[39;49m\u001b[38;5;241;43m.\u001b[39;49m\u001b[43mflush_timeout\u001b[49m\u001b[43m)\u001b[49m:\n\u001b[0;32m    610\u001b[0m         \u001b[38;5;66;03m# write directly to __stderr__ instead of warning because\u001b[39;00m\n\u001b[0;32m    611\u001b[0m         \u001b[38;5;66;03m# if this is happening sys.stderr may be the problem.\u001b[39;00m\n\u001b[0;32m    612\u001b[0m         \u001b[38;5;28mprint\u001b[39m(\u001b[38;5;124m\"\u001b[39m\u001b[38;5;124mIOStream.flush timed out\u001b[39m\u001b[38;5;124m\"\u001b[39m, file\u001b[38;5;241m=\u001b[39msys\u001b[38;5;241m.\u001b[39m__stderr__)\n\u001b[0;32m    613\u001b[0m \u001b[38;5;28;01melse\u001b[39;00m:\n",
      "File \u001b[1;32mc:\\Users\\itssh\\anaconda\\envs\\Adv_Learn\\Lib\\threading.py:655\u001b[0m, in \u001b[0;36mEvent.wait\u001b[1;34m(self, timeout)\u001b[0m\n\u001b[0;32m    653\u001b[0m signaled \u001b[38;5;241m=\u001b[39m \u001b[38;5;28mself\u001b[39m\u001b[38;5;241m.\u001b[39m_flag\n\u001b[0;32m    654\u001b[0m \u001b[38;5;28;01mif\u001b[39;00m \u001b[38;5;129;01mnot\u001b[39;00m signaled:\n\u001b[1;32m--> 655\u001b[0m     signaled \u001b[38;5;241m=\u001b[39m \u001b[38;5;28;43mself\u001b[39;49m\u001b[38;5;241;43m.\u001b[39;49m\u001b[43m_cond\u001b[49m\u001b[38;5;241;43m.\u001b[39;49m\u001b[43mwait\u001b[49m\u001b[43m(\u001b[49m\u001b[43mtimeout\u001b[49m\u001b[43m)\u001b[49m\n\u001b[0;32m    656\u001b[0m \u001b[38;5;28;01mreturn\u001b[39;00m signaled\n",
      "File \u001b[1;32mc:\\Users\\itssh\\anaconda\\envs\\Adv_Learn\\Lib\\threading.py:359\u001b[0m, in \u001b[0;36mCondition.wait\u001b[1;34m(self, timeout)\u001b[0m\n\u001b[0;32m    357\u001b[0m \u001b[38;5;28;01melse\u001b[39;00m:\n\u001b[0;32m    358\u001b[0m     \u001b[38;5;28;01mif\u001b[39;00m timeout \u001b[38;5;241m>\u001b[39m \u001b[38;5;241m0\u001b[39m:\n\u001b[1;32m--> 359\u001b[0m         gotit \u001b[38;5;241m=\u001b[39m \u001b[43mwaiter\u001b[49m\u001b[38;5;241;43m.\u001b[39;49m\u001b[43macquire\u001b[49m\u001b[43m(\u001b[49m\u001b[38;5;28;43;01mTrue\u001b[39;49;00m\u001b[43m,\u001b[49m\u001b[43m \u001b[49m\u001b[43mtimeout\u001b[49m\u001b[43m)\u001b[49m\n\u001b[0;32m    360\u001b[0m     \u001b[38;5;28;01melse\u001b[39;00m:\n\u001b[0;32m    361\u001b[0m         gotit \u001b[38;5;241m=\u001b[39m waiter\u001b[38;5;241m.\u001b[39macquire(\u001b[38;5;28;01mFalse\u001b[39;00m)\n",
      "\u001b[1;31mKeyboardInterrupt\u001b[0m: "
     ]
    }
   ],
   "source": [
    "# Please write your Python code below and execute it.\n",
    "model = gensim.downloader.load(\"word2vec-google-news-300\")"
   ]
  },
  {
   "cell_type": "markdown",
   "id": "3fc1f368",
   "metadata": {},
   "source": []
  },
  {
   "cell_type": "markdown",
   "id": "western-insurance",
   "metadata": {},
   "source": [
    "**1c.** Please load the word2vec model as an instance of the class `KeyedVectors`, and store it in a variable called `wv_model`. \n",
    "What is, at this point, the memory size of the process corresponding to this notebook?  Simply write the value you obtain from any OS-specific utility that you like."
   ]
  },
  {
   "cell_type": "code",
   "execution_count": 5,
   "id": "instant-jewelry",
   "metadata": {},
   "outputs": [],
   "source": [
    "# Please write your Python code below and execute it.  Write the memory size on a commented line.\n"
   ]
  },
  {
   "cell_type": "markdown",
   "id": "together-flooring",
   "metadata": {},
   "source": [
    "**1d.** Please write the instructions that generate the answers to the following questions.\n",
    "* What is the size of the vocabulary of the `wv_model` model?  \n",
    "* What is the dimensionality of each word vector?  \n",
    "* What is the word corresponding to the vector in position 1234?  \n",
    "* What are the first 10 coefficients of the word vector for the word *pyramid*?  "
   ]
  },
  {
   "cell_type": "code",
   "execution_count": 6,
   "id": "rubber-richardson",
   "metadata": {},
   "outputs": [],
   "source": [
    "# Please write your Python code below and execute it.\n"
   ]
  },
  {
   "cell_type": "markdown",
   "id": "governing-accessory",
   "metadata": {},
   "source": [
    "## 2. Solving analogies using word2vec trained on Google News\n",
    "In this section, you are going to use word vectors to solve analogy tasks provided with Gensim, such as \"What is to France what Rome is to Italy?\".  The predefined function in Gensim that evaluates a model on this task does not provide enough details, so you will need to make modifications to it."
   ]
  },
  {
   "cell_type": "markdown",
   "id": "a642353b",
   "metadata": {},
   "source": [
    "**2a.** The analogy tasks are stored in a text file called `questions-words.txt` which is typically found in `C:\\Users\\YourNameHere\\.conda\\envs\\YourEnvNameHere\\Lib\\site-packages\\gensim\\test\\test_data`.  You can access it from here with Gensim as `datapath('questions-words.txt')`.  \n",
    "\n",
    "Please create a file called `questions-words-100.txt` with the first 100 lines from the original file.  Please run the evaluation task on this file, using the [documentation of the KeyedVectors class](https://radimrehurek.com/gensim/models/keyedvectors.html), then answer the following questions:\n",
    "* How many analogy tasks are there in your `questions-words-100.txt` file?\n",
    "* How many analogies were solved correctly and how many incorrectly?\n",
    "* What is the accuracy returned by `evaluate_word_analogies`?\n",
    "* How much time did it take to solve the analogies?"
   ]
  },
  {
   "cell_type": "code",
   "execution_count": 7,
   "id": "1ae43e45",
   "metadata": {},
   "outputs": [],
   "source": [
    "# Please write your Python code below and execute it.\n"
   ]
  },
  {
   "cell_type": "markdown",
   "id": "b8da425e",
   "metadata": {},
   "source": [
    "**2b.** Please answer in writing the following questions:\n",
    "* What is the meaning of the first line of `questions-words-100.txt`?\n",
    "* How many analogies are there in the original `questions-words.txt`?\n",
    "* How much time would it take to solve the original set of analogies?"
   ]
  },
  {
   "cell_type": "code",
   "execution_count": 8,
   "id": "66241a78",
   "metadata": {},
   "outputs": [],
   "source": [
    "# Please write your answers here.\n"
   ]
  },
  {
   "cell_type": "markdown",
   "id": "683ea5d4",
   "metadata": {},
   "source": [
    "**2c.** The built-in function from Gensim has several weaknesses, which you will address here.  Please copy the source code of the function `evaluate_word_analogies` from the file `gensim\\models\\keyedvectors.py` and create here a new function which will improve the built-in one as follows.  The function will be called `my_evaluate_word_analogies` and you will also pass it the model as the first argument.  Overall, please proceed gradually and only make minimal modifications, to ensure you don't break the function.  It is important to first understand the structure of the result, `analogies_scores` and `sections`. \n",
    "\n",
    "* Modify the line where `section[incorrect]` is assembled in order to also add to each analogy the *incorrect guess* (i.e. what the model thought was the good answer, but got it wrong).\n",
    "\n",
    "* Modify the code so that when `section[incorrect]` is assembled, you also add the *rank of the correct answer* among the candidates returned by the system (after the incorrect guess).  If the correct answer is not present at all, then code the rank as 0."
   ]
  },
  {
   "cell_type": "code",
   "execution_count": 11,
   "id": "e054d8ad",
   "metadata": {},
   "outputs": [],
   "source": [
    "# def my_evaluate_word_analogies(model, analogies, restrict_vocab=300000, case_insensitive=True):\n"
   ]
  },
  {
   "cell_type": "markdown",
   "id": "062fec19",
   "metadata": {},
   "source": [
    "**2d.** Please run the `my_evaluate_word_analogies` function on `questions-words-100.txt` and then write instructions to display, from the results stored in `analogy_scores`:\n",
    "* one incorrectly-solved analogy (selected at random), including also the error made by the model and the rank of the correct answer, thus adding:\n",
    "  - a fifth word, which is the incorrect one found by the model\n",
    "  - a sixth term, which is the integer indicating the rank (or 0)\n",
    "* one correctly-solved analogy selected at random (in principle, four terms)."
   ]
  },
  {
   "cell_type": "code",
   "execution_count": null,
   "id": "composite-fundamentals",
   "metadata": {},
   "outputs": [],
   "source": [
    "# Please write your Python code below and execute it.\n"
   ]
  },
  {
   "cell_type": "markdown",
   "id": "broadband-contest",
   "metadata": {},
   "source": [
    "**2e.** Please write a function to compute the MRR score given a structure with correctly and incorrectly solved analogies, such as the one that is found in the results from `evaluate_word_analogies`.  The structure is not divided into categories.\n",
    "\n",
    "The Mean Reciprocal Rank (please use the [formula here](https://en.wikipedia.org/wiki/Mean_reciprocal_rank)) gives some credit for incorrectly solved analogies, in inverse proportion to the rank of the correct answer among the candidates.  This rank is 1 for correctly solved analogies (full credit), and 1/k (or 0) for incorrectly solved ones."
   ]
  },
  {
   "cell_type": "code",
   "execution_count": null,
   "id": "f5dc33e6",
   "metadata": {},
   "outputs": [],
   "source": [
    "# Please define here the function that computes MRR from the information stored in analogy_scores\n",
    "# def myMRR(analogies):\n"
   ]
  },
  {
   "cell_type": "code",
   "execution_count": null,
   "id": "primary-breach",
   "metadata": {},
   "outputs": [],
   "source": [
    "# Please test your MRR function by running the following code, which  displays the total number of analogy tasks, \n",
    "# the number of different categories (sections), the accuracy of the results (total number of correctly \n",
    "# solved analogies), and the MRR score of the results:\n",
    "print(\"Total number of analogies:\",  # The last dictionary is the total\n",
    "      len(analogy_scores[1][-1]['correct']) + \n",
    "      len(analogy_scores[1][-1]['incorrect']))\n",
    "print(\"Total number of categories:\", len(analogy_scores[1]) - 1) # the \"total\" is excluded \n",
    "print(f\"Overall accuracy: {analogy_scores[0]:.2f} and MRR: {myMRR(analogy_scores[1][-1]):.2f}\")"
   ]
  },
  {
   "cell_type": "markdown",
   "id": "bbd4662a",
   "metadata": {},
   "source": [
    "**2f.** Please compute now the accuracy and MRR and the total time for the entire `questions-words.txt` file.  Is the timing compatible with your estimate from (2b)?  What do you think about the difference between accuracy and MRR? "
   ]
  },
  {
   "cell_type": "code",
   "execution_count": null,
   "id": "07f2842d",
   "metadata": {},
   "outputs": [],
   "source": [
    "# Please write your Python code below and execute it.\n"
   ]
  },
  {
   "cell_type": "code",
   "execution_count": null,
   "id": "6a6be580",
   "metadata": {},
   "outputs": [],
   "source": [
    "# Please write you answer here."
   ]
  },
  {
   "cell_type": "markdown",
   "id": "economic-shore",
   "metadata": {},
   "source": [
    "## End of AdvNLP Lab 4\n",
    "Please submit your lab report as a .ipynb file after you have fully run and checked it in Google Colab; then upload it to Moodle.\n",
    "Please submit one notebook per group only and do not forget to put the last names of all team members in the filename."
   ]
  }
 ],
 "metadata": {
  "kernelspec": {
   "display_name": "Adv_Learn",
   "language": "python",
   "name": "python3"
  },
  "language_info": {
   "codemirror_mode": {
    "name": "ipython",
    "version": 3
   },
   "file_extension": ".py",
   "mimetype": "text/x-python",
   "name": "python",
   "nbconvert_exporter": "python",
   "pygments_lexer": "ipython3",
   "version": "3.12.7"
  }
 },
 "nbformat": 4,
 "nbformat_minor": 5
}
